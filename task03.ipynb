{
 "cells": [
  {
   "cell_type": "code",
   "execution_count": null,
   "id": "84bb7cfd",
   "metadata": {},
   "outputs": [],
   "source": [
    "# Непрерывная случайная величина X распределена нормально и задана плотностью\n",
    "# распределения\n",
    "# f(x) = (1 / (4 * sqrt(2pi))) * exp((-(x+2)**2) / 32)\n",
    "# Найдите:\n",
    "# а). M(X)\n",
    "# б). D(X)\n",
    "# в). std(X) (среднее квадратичное отклонение)"
   ]
  },
  {
   "cell_type": "code",
   "execution_count": null,
   "id": "504b1b58",
   "metadata": {},
   "outputs": [],
   "source": [
    "# a) M(x) = -2\n",
    "# б) D(x) = 16\n",
    "# в) std(x) = 4"
   ]
  },
  {
   "cell_type": "code",
   "execution_count": null,
   "id": "a862882e",
   "metadata": {},
   "outputs": [],
   "source": []
  }
 ],
 "metadata": {
  "kernelspec": {
   "display_name": "Python 3 (ipykernel)",
   "language": "python",
   "name": "python3"
  },
  "language_info": {
   "codemirror_mode": {
    "name": "ipython",
    "version": 3
   },
   "file_extension": ".py",
   "mimetype": "text/x-python",
   "name": "python",
   "nbconvert_exporter": "python",
   "pygments_lexer": "ipython3",
   "version": "3.10.9"
  }
 },
 "nbformat": 4,
 "nbformat_minor": 5
}
