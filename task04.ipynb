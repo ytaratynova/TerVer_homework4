{
 "cells": [
  {
   "cell_type": "code",
   "execution_count": 9,
   "id": "4c6b76d1",
   "metadata": {},
   "outputs": [],
   "source": [
    "# Рост взрослого населения города X имеет нормальное распределение, причем, средний рост равен 174 см, \n",
    "# а среднее квадратическое отклонение равно 8 см. \n",
    "# посчитайте, какова вероятность того, что случайным образом выбранный взрослый человек имеет рост:\n",
    "# 1. больше 182 см?\n",
    "# 2. больше 190 см?\n",
    "# 3. от 166 см до 190 см?\n",
    "# 4. от 166 см до 182 см?\n",
    "# 5. от 158 см до 190 см?\n",
    "# 6. не выше 150 см или не ниже 190 см?\n",
    "# 7. не выше 150 см или не ниже 198 см?\n",
    "# 8. ниже 166 см?\n",
    "\n",
    "# Задачу можно решить двумя способами: без использования сторонних библиотек (numpy, scipy, pandas и пр.), \n",
    "# а затем проверить себя с помощью встроенных функций"
   ]
  },
  {
   "cell_type": "code",
   "execution_count": 10,
   "id": "1c9d68f2",
   "metadata": {},
   "outputs": [],
   "source": [
    "from scipy import stats"
   ]
  },
  {
   "cell_type": "code",
   "execution_count": 15,
   "id": "1413b24f",
   "metadata": {},
   "outputs": [
    {
     "name": "stdout",
     "output_type": "stream",
     "text": [
      "1.0\n",
      "0.15869999999999995\n",
      "0.15865525393145707\n"
     ]
    }
   ],
   "source": [
    "# 1. больше 182 см?\n",
    "# f(x>182) = 1 - f(x<182) = 1 - p(182)\n",
    "z = (182 - 174)/8\n",
    "print(z)\n",
    "# находим в таблице:\n",
    "# p(182) = 0.8413\n",
    "# f(x>182) = 1-0.8413\n",
    "print(1 - 0.8413)\n",
    "#  или:\n",
    "print(1 - stats.norm.cdf(182, loc=174, scale=8))"
   ]
  },
  {
   "cell_type": "code",
   "execution_count": 17,
   "id": "2ecf0672",
   "metadata": {},
   "outputs": [
    {
     "name": "stdout",
     "output_type": "stream",
     "text": [
      "2.0\n",
      "0.022800000000000042\n",
      "0.02275013194817921\n"
     ]
    }
   ],
   "source": [
    "# 2. больше 190 см?\n",
    "# f(x>190) = 1 - f(x<190) = 1 - p(190)\n",
    "z = (190 - 174)/8\n",
    "print(z)\n",
    "# находим в таблице:\n",
    "# p(190) = 0.9772\n",
    "# f(x>182) = 1-0.9772\n",
    "print(1 - 0.9772)\n",
    "\n",
    "# или:\n",
    "print(1 - stats.norm.cdf(190, loc=174, scale=8))"
   ]
  },
  {
   "cell_type": "code",
   "execution_count": 28,
   "id": "b9300ab6",
   "metadata": {},
   "outputs": [
    {
     "name": "stdout",
     "output_type": "stream",
     "text": [
      "-1.0\n",
      "0.8185399999999999\n",
      "0.8185946141203637\n"
     ]
    }
   ],
   "source": [
    "# 3. от 166 см до 190 см?\n",
    "# из предыдущего решения p(190) = 0.9772, находим p(166):\n",
    "z = (166 - 174)/8\n",
    "print(z)\n",
    "# находим в таблице:\n",
    "# p(166) = 0.15866  \n",
    "# искомое значение: p(190) - p(166)\n",
    "print(0.9772-0.15866)\n",
    "\n",
    "# или:\n",
    "print(stats.norm.cdf(190, loc=174, scale=8) - stats.norm.cdf(166, loc=174, scale=8))"
   ]
  },
  {
   "cell_type": "code",
   "execution_count": 29,
   "id": "0634eedb",
   "metadata": {},
   "outputs": [
    {
     "name": "stdout",
     "output_type": "stream",
     "text": [
      "0.68264\n",
      "0.6826894921370859\n"
     ]
    }
   ],
   "source": [
    "# 4. от 166 см до 182 см?\n",
    "# из предыдущих решения p(182) = 0.8413, p(166) = 0.15866:\n",
    "print(0.8413-0.15866)\n",
    "\n",
    "# или\n",
    "print(stats.norm.cdf(182, loc=174, scale=8) - stats.norm.cdf(166, loc=174, scale=8))"
   ]
  },
  {
   "cell_type": "code",
   "execution_count": 25,
   "id": "28bc6392",
   "metadata": {},
   "outputs": [
    {
     "name": "stdout",
     "output_type": "stream",
     "text": [
      "-2.0\n",
      "0.9544499999999999\n",
      "0.9544997361036416\n"
     ]
    }
   ],
   "source": [
    "# 5. от 158 см до 190 см?\n",
    "# из предыдущего решения p(190) = 0.9772, находим p(158):\n",
    "z = (158 - 174)/8\n",
    "print(z)\n",
    "# находим в таблице:\n",
    "# p(158) = 0.02275\n",
    "# искомое значение: p(190) - p(158)\n",
    "print(0.9772-0.02275)\n",
    "\n",
    "# или:\n",
    "print(stats.norm.cdf(190, loc=174, scale=8) - stats.norm.cdf(158, loc=174, scale=8))"
   ]
  },
  {
   "cell_type": "code",
   "execution_count": 34,
   "id": "a6a7bfc2",
   "metadata": {},
   "outputs": [
    {
     "name": "stdout",
     "output_type": "stream",
     "text": [
      "0.024400000000000033\n",
      "0.0241000299798093\n"
     ]
    }
   ],
   "source": [
    "# 6. не выше 150 см или не ниже 190 см?\n",
    "# Используем правило трех сигм: не выше 150(3 сигмы) лежит (1-0.9972)/2 не ниже 190(2 сигмы) лежит (1-0.954)/2\n",
    "print((1-0.9972)/2 + (1-0.954)/2)\n",
    "\n",
    "# или:\n",
    "print(stats.norm.cdf(150, loc=174, scale=8) + (1 - stats.norm.cdf(190, loc=174, scale=8)))"
   ]
  },
  {
   "cell_type": "code",
   "execution_count": 35,
   "id": "da4d5b43",
   "metadata": {},
   "outputs": [
    {
     "name": "stdout",
     "output_type": "stream",
     "text": [
      "0.0028000000000000247\n",
      "0.0026997960632601965\n"
     ]
    }
   ],
   "source": [
    "# 7. не выше 150 см или не ниже 198 см?\n",
    "# Используем правило трех сигм: не выше 150(3 сигмы) и 198(3 сигмы) лежит 1-0.9972 значений\n",
    "print(1-0.9972)\n",
    "\n",
    "# или:\n",
    "print(stats.norm.cdf(150, loc=174, scale=8) + (1 - stats.norm.cdf(198, loc=174, scale=8)))"
   ]
  },
  {
   "cell_type": "code",
   "execution_count": 36,
   "id": "dbf2b5c1",
   "metadata": {},
   "outputs": [
    {
     "name": "stdout",
     "output_type": "stream",
     "text": [
      "0.15999999999999998\n",
      "0.15865525393145707\n"
     ]
    }
   ],
   "source": [
    "# 8. ниже 166 см?\n",
    "z = (166 - 174)/8\n",
    "# print(z)\n",
    "# находим в таблице:\n",
    "# p(166) = 0.15866 \n",
    "\n",
    "# или по правилу трех сигм, 166 (1 сигма):\n",
    "print((1-0.68)/2)\n",
    "\n",
    "# или\n",
    "print(stats.norm.cdf(166, loc=174, scale=8))\n",
    "\n",
    "\n"
   ]
  },
  {
   "cell_type": "code",
   "execution_count": null,
   "id": "6f60f8aa",
   "metadata": {},
   "outputs": [],
   "source": []
  }
 ],
 "metadata": {
  "kernelspec": {
   "display_name": "Python 3 (ipykernel)",
   "language": "python",
   "name": "python3"
  },
  "language_info": {
   "codemirror_mode": {
    "name": "ipython",
    "version": 3
   },
   "file_extension": ".py",
   "mimetype": "text/x-python",
   "name": "python",
   "nbconvert_exporter": "python",
   "pygments_lexer": "ipython3",
   "version": "3.10.9"
  }
 },
 "nbformat": 4,
 "nbformat_minor": 5
}
