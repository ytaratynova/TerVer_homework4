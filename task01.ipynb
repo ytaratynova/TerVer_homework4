{
 "cells": [
  {
   "cell_type": "code",
   "execution_count": null,
   "id": "3ebbc1e2",
   "metadata": {},
   "outputs": [],
   "source": [
    "# Случайная непрерывная величина A имеет равномерное распределение на\n",
    "# промежутке (200, 800].\n",
    "# Найдите ее среднее значение и дисперсию."
   ]
  },
  {
   "cell_type": "code",
   "execution_count": 1,
   "id": "fd52ea17",
   "metadata": {},
   "outputs": [
    {
     "name": "stdout",
     "output_type": "stream",
     "text": [
      "500.0\n"
     ]
    }
   ],
   "source": [
    "# Среднее значение\n",
    "print((800+200)/2)"
   ]
  },
  {
   "cell_type": "code",
   "execution_count": 2,
   "id": "3e2f889d",
   "metadata": {},
   "outputs": [
    {
     "name": "stdout",
     "output_type": "stream",
     "text": [
      "30000.0\n"
     ]
    }
   ],
   "source": [
    "# Дисперсия\n",
    "print((800-200)**2/12)"
   ]
  },
  {
   "cell_type": "code",
   "execution_count": null,
   "id": "ffcc10f0",
   "metadata": {},
   "outputs": [],
   "source": []
  }
 ],
 "metadata": {
  "kernelspec": {
   "display_name": "Python 3 (ipykernel)",
   "language": "python",
   "name": "python3"
  },
  "language_info": {
   "codemirror_mode": {
    "name": "ipython",
    "version": 3
   },
   "file_extension": ".py",
   "mimetype": "text/x-python",
   "name": "python",
   "nbconvert_exporter": "python",
   "pygments_lexer": "ipython3",
   "version": "3.10.9"
  }
 },
 "nbformat": 4,
 "nbformat_minor": 5
}
