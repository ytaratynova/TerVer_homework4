{
 "cells": [
  {
   "cell_type": "code",
   "execution_count": null,
   "id": "1216165b",
   "metadata": {},
   "outputs": [],
   "source": [
    "# На сколько сигм (средних квадратичных отклонений) отклоняется рост человека,\n",
    "# равный 190 см, от\n",
    "# математического ожидания роста в популяции, в которой M(X) = 178 см и D(X) = 25 кв.см?"
   ]
  },
  {
   "cell_type": "code",
   "execution_count": 3,
   "id": "58798287",
   "metadata": {},
   "outputs": [
    {
     "name": "stdout",
     "output_type": "stream",
     "text": [
      "2.4\n"
     ]
    }
   ],
   "source": [
    "# D(x) = 25 -> сигма = 5\n",
    "print((190-178)/5)"
   ]
  },
  {
   "cell_type": "code",
   "execution_count": null,
   "id": "e3142e14",
   "metadata": {},
   "outputs": [],
   "source": []
  }
 ],
 "metadata": {
  "kernelspec": {
   "display_name": "Python 3 (ipykernel)",
   "language": "python",
   "name": "python3"
  },
  "language_info": {
   "codemirror_mode": {
    "name": "ipython",
    "version": 3
   },
   "file_extension": ".py",
   "mimetype": "text/x-python",
   "name": "python",
   "nbconvert_exporter": "python",
   "pygments_lexer": "ipython3",
   "version": "3.10.9"
  }
 },
 "nbformat": 4,
 "nbformat_minor": 5
}
