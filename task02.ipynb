{
 "cells": [
  {
   "cell_type": "code",
   "execution_count": null,
   "id": "03e9d7b1",
   "metadata": {},
   "outputs": [],
   "source": [
    "# О случайной непрерывной равномерно распределенной величине B известно, что ее\n",
    "# дисперсия равна 0.2.\n",
    "# Можно ли найти правую границу величины B и ее среднее значение зная, что левая\n",
    "# граница равна 0.5?\n",
    "# Если да, найдите ее."
   ]
  },
  {
   "cell_type": "code",
   "execution_count": 1,
   "id": "c8b3c04d",
   "metadata": {},
   "outputs": [
    {
     "name": "stdout",
     "output_type": "stream",
     "text": [
      "2.049193338482967\n"
     ]
    }
   ],
   "source": [
    "# D = (b-a)**2/12\n",
    "# выражаем b из формулы и получаем:\n",
    "print((12*0.2)**0.5 + 0.5)"
   ]
  },
  {
   "cell_type": "code",
   "execution_count": null,
   "id": "657ebd3a",
   "metadata": {},
   "outputs": [],
   "source": []
  }
 ],
 "metadata": {
  "kernelspec": {
   "display_name": "Python 3 (ipykernel)",
   "language": "python",
   "name": "python3"
  },
  "language_info": {
   "codemirror_mode": {
    "name": "ipython",
    "version": 3
   },
   "file_extension": ".py",
   "mimetype": "text/x-python",
   "name": "python",
   "nbconvert_exporter": "python",
   "pygments_lexer": "ipython3",
   "version": "3.10.9"
  }
 },
 "nbformat": 4,
 "nbformat_minor": 5
}
